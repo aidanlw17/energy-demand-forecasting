{
 "cells": [
  {
   "cell_type": "markdown",
   "metadata": {
    "colab_type": "text",
    "id": "view-in-github"
   },
   "source": [
    "<a href=\"https://colab.research.google.com/github/Yuvrender-Gill/power-demand-forecasting/blob/master/power_data_exploration.ipynb\" target=\"_parent\"><img src=\"https://colab.research.google.com/assets/colab-badge.svg\" alt=\"Open In Colab\"/></a>"
   ]
  },
  {
   "cell_type": "code",
   "execution_count": 1,
   "metadata": {
    "colab": {},
    "colab_type": "code",
    "id": "j8ObvbZFGPnE"
   },
   "outputs": [],
   "source": [
    "import pandas as pd\n",
    "import seaborn\n",
    "import numpy as np # linear algebra\n",
    "\n",
    "import matplotlib.pyplot as plt\n",
    "plt.style.use(\"ggplot\")"
   ]
  },
  {
   "cell_type": "code",
   "execution_count": 5,
   "metadata": {},
   "outputs": [
    {
     "data": {
      "text/html": [
       "<div>\n",
       "<style scoped>\n",
       "    .dataframe tbody tr th:only-of-type {\n",
       "        vertical-align: middle;\n",
       "    }\n",
       "\n",
       "    .dataframe tbody tr th {\n",
       "        vertical-align: top;\n",
       "    }\n",
       "\n",
       "    .dataframe thead th {\n",
       "        text-align: right;\n",
       "    }\n",
       "</style>\n",
       "<table border=\"1\" class=\"dataframe\">\n",
       "  <thead>\n",
       "    <tr style=\"text-align: right;\">\n",
       "      <th></th>\n",
       "      <th>Date</th>\n",
       "      <th>Hour</th>\n",
       "      <th>Ontario Demand</th>\n",
       "      <th>Northwest</th>\n",
       "      <th>Northeast</th>\n",
       "      <th>Ottawa</th>\n",
       "      <th>East</th>\n",
       "      <th>Toronto</th>\n",
       "      <th>Essa</th>\n",
       "      <th>Bruce</th>\n",
       "      <th>Southwest</th>\n",
       "      <th>Niagara</th>\n",
       "      <th>West</th>\n",
       "      <th>Zone Total</th>\n",
       "      <th>Diff</th>\n",
       "    </tr>\n",
       "  </thead>\n",
       "  <tbody>\n",
       "    <tr>\n",
       "      <th>0</th>\n",
       "      <td>1/1/2016</td>\n",
       "      <td>1</td>\n",
       "      <td>13417</td>\n",
       "      <td>479</td>\n",
       "      <td>1318</td>\n",
       "      <td>783</td>\n",
       "      <td>965</td>\n",
       "      <td>4789</td>\n",
       "      <td>867</td>\n",
       "      <td>57</td>\n",
       "      <td>2603</td>\n",
       "      <td>377</td>\n",
       "      <td>1212</td>\n",
       "      <td>13451</td>\n",
       "      <td>33</td>\n",
       "    </tr>\n",
       "    <tr>\n",
       "      <th>1</th>\n",
       "      <td>1/1/2016</td>\n",
       "      <td>2</td>\n",
       "      <td>12968</td>\n",
       "      <td>473</td>\n",
       "      <td>1281</td>\n",
       "      <td>715</td>\n",
       "      <td>975</td>\n",
       "      <td>4597</td>\n",
       "      <td>829</td>\n",
       "      <td>59</td>\n",
       "      <td>2491</td>\n",
       "      <td>377</td>\n",
       "      <td>1183</td>\n",
       "      <td>12979</td>\n",
       "      <td>11</td>\n",
       "    </tr>\n",
       "    <tr>\n",
       "      <th>2</th>\n",
       "      <td>1/1/2016</td>\n",
       "      <td>3</td>\n",
       "      <td>12395</td>\n",
       "      <td>464</td>\n",
       "      <td>1158</td>\n",
       "      <td>693</td>\n",
       "      <td>945</td>\n",
       "      <td>4441</td>\n",
       "      <td>796</td>\n",
       "      <td>65</td>\n",
       "      <td>2392</td>\n",
       "      <td>365</td>\n",
       "      <td>1135</td>\n",
       "      <td>12454</td>\n",
       "      <td>59</td>\n",
       "    </tr>\n",
       "    <tr>\n",
       "      <th>3</th>\n",
       "      <td>1/1/2016</td>\n",
       "      <td>4</td>\n",
       "      <td>12228</td>\n",
       "      <td>447</td>\n",
       "      <td>1170</td>\n",
       "      <td>681</td>\n",
       "      <td>923</td>\n",
       "      <td>4332</td>\n",
       "      <td>776</td>\n",
       "      <td>48</td>\n",
       "      <td>2349</td>\n",
       "      <td>352</td>\n",
       "      <td>1118</td>\n",
       "      <td>12195</td>\n",
       "      <td>-33</td>\n",
       "    </tr>\n",
       "    <tr>\n",
       "      <th>4</th>\n",
       "      <td>1/1/2016</td>\n",
       "      <td>5</td>\n",
       "      <td>12116</td>\n",
       "      <td>432</td>\n",
       "      <td>1182</td>\n",
       "      <td>676</td>\n",
       "      <td>926</td>\n",
       "      <td>4272</td>\n",
       "      <td>774</td>\n",
       "      <td>63</td>\n",
       "      <td>2307</td>\n",
       "      <td>349</td>\n",
       "      <td>1108</td>\n",
       "      <td>12089</td>\n",
       "      <td>-28</td>\n",
       "    </tr>\n",
       "  </tbody>\n",
       "</table>\n",
       "</div>"
      ],
      "text/plain": [
       "       Date  Hour  Ontario Demand  Northwest  Northeast  Ottawa  East  \\\n",
       "0  1/1/2016     1           13417        479       1318     783   965   \n",
       "1  1/1/2016     2           12968        473       1281     715   975   \n",
       "2  1/1/2016     3           12395        464       1158     693   945   \n",
       "3  1/1/2016     4           12228        447       1170     681   923   \n",
       "4  1/1/2016     5           12116        432       1182     676   926   \n",
       "\n",
       "   Toronto  Essa  Bruce  Southwest  Niagara  West  Zone Total  Diff  \n",
       "0     4789   867     57       2603      377  1212       13451    33  \n",
       "1     4597   829     59       2491      377  1183       12979    11  \n",
       "2     4441   796     65       2392      365  1135       12454    59  \n",
       "3     4332   776     48       2349      352  1118       12195   -33  \n",
       "4     4272   774     63       2307      349  1108       12089   -28  "
      ]
     },
     "execution_count": 5,
     "metadata": {},
     "output_type": "execute_result"
    }
   ],
   "source": [
    "\n",
    "# Read the demand data for past 3 years\n",
    "df =  pd.read_csv(\"data/power_data.csv\")\n",
    "df.head()\n"
   ]
  },
  {
   "cell_type": "code",
   "execution_count": 6,
   "metadata": {},
   "outputs": [
    {
     "data": {
      "text/html": [
       "<div>\n",
       "<style scoped>\n",
       "    .dataframe tbody tr th:only-of-type {\n",
       "        vertical-align: middle;\n",
       "    }\n",
       "\n",
       "    .dataframe tbody tr th {\n",
       "        vertical-align: top;\n",
       "    }\n",
       "\n",
       "    .dataframe thead th {\n",
       "        text-align: right;\n",
       "    }\n",
       "</style>\n",
       "<table border=\"1\" class=\"dataframe\">\n",
       "  <thead>\n",
       "    <tr style=\"text-align: right;\">\n",
       "      <th></th>\n",
       "      <th>Hour</th>\n",
       "      <th>Ontario Demand</th>\n",
       "      <th>Northwest</th>\n",
       "      <th>Northeast</th>\n",
       "      <th>Ottawa</th>\n",
       "      <th>East</th>\n",
       "      <th>Toronto</th>\n",
       "      <th>Essa</th>\n",
       "      <th>Bruce</th>\n",
       "      <th>Southwest</th>\n",
       "      <th>Niagara</th>\n",
       "      <th>West</th>\n",
       "      <th>Zone Total</th>\n",
       "      <th>Diff</th>\n",
       "    </tr>\n",
       "  </thead>\n",
       "  <tbody>\n",
       "    <tr>\n",
       "      <th>count</th>\n",
       "      <td>26304.000000</td>\n",
       "      <td>26304.000000</td>\n",
       "      <td>26304.000000</td>\n",
       "      <td>26304.000000</td>\n",
       "      <td>26304.000000</td>\n",
       "      <td>26304.000000</td>\n",
       "      <td>26304.000000</td>\n",
       "      <td>26304.000000</td>\n",
       "      <td>26304.000000</td>\n",
       "      <td>26304.000000</td>\n",
       "      <td>26304.000000</td>\n",
       "      <td>26304.000000</td>\n",
       "      <td>26304.000000</td>\n",
       "      <td>26304.000000</td>\n",
       "    </tr>\n",
       "    <tr>\n",
       "      <th>mean</th>\n",
       "      <td>12.500000</td>\n",
       "      <td>15454.580482</td>\n",
       "      <td>477.612530</td>\n",
       "      <td>1211.153285</td>\n",
       "      <td>908.093028</td>\n",
       "      <td>996.087477</td>\n",
       "      <td>5751.034101</td>\n",
       "      <td>921.040640</td>\n",
       "      <td>79.491560</td>\n",
       "      <td>3107.029615</td>\n",
       "      <td>472.461755</td>\n",
       "      <td>1531.588314</td>\n",
       "      <td>15455.589606</td>\n",
       "      <td>1.008440</td>\n",
       "    </tr>\n",
       "    <tr>\n",
       "      <th>std</th>\n",
       "      <td>6.922318</td>\n",
       "      <td>2319.745483</td>\n",
       "      <td>76.456378</td>\n",
       "      <td>152.535004</td>\n",
       "      <td>202.392173</td>\n",
       "      <td>220.258410</td>\n",
       "      <td>1037.120920</td>\n",
       "      <td>232.066966</td>\n",
       "      <td>34.828776</td>\n",
       "      <td>488.723766</td>\n",
       "      <td>98.349500</td>\n",
       "      <td>255.804443</td>\n",
       "      <td>2382.884298</td>\n",
       "      <td>582.621517</td>\n",
       "    </tr>\n",
       "    <tr>\n",
       "      <th>min</th>\n",
       "      <td>1.000000</td>\n",
       "      <td>10167.000000</td>\n",
       "      <td>0.000000</td>\n",
       "      <td>0.000000</td>\n",
       "      <td>0.000000</td>\n",
       "      <td>0.000000</td>\n",
       "      <td>0.000000</td>\n",
       "      <td>0.000000</td>\n",
       "      <td>-61.000000</td>\n",
       "      <td>0.000000</td>\n",
       "      <td>-4255.000000</td>\n",
       "      <td>0.000000</td>\n",
       "      <td>0.000000</td>\n",
       "      <td>-18416.000000</td>\n",
       "    </tr>\n",
       "    <tr>\n",
       "      <th>25%</th>\n",
       "      <td>6.750000</td>\n",
       "      <td>13746.750000</td>\n",
       "      <td>424.000000</td>\n",
       "      <td>1100.000000</td>\n",
       "      <td>766.000000</td>\n",
       "      <td>855.000000</td>\n",
       "      <td>4963.000000</td>\n",
       "      <td>750.000000</td>\n",
       "      <td>57.000000</td>\n",
       "      <td>2756.000000</td>\n",
       "      <td>409.000000</td>\n",
       "      <td>1357.000000</td>\n",
       "      <td>13762.000000</td>\n",
       "      <td>-44.000000</td>\n",
       "    </tr>\n",
       "    <tr>\n",
       "      <th>50%</th>\n",
       "      <td>12.500000</td>\n",
       "      <td>15341.000000</td>\n",
       "      <td>471.000000</td>\n",
       "      <td>1203.000000</td>\n",
       "      <td>899.000000</td>\n",
       "      <td>992.000000</td>\n",
       "      <td>5781.000000</td>\n",
       "      <td>893.000000</td>\n",
       "      <td>74.000000</td>\n",
       "      <td>3094.000000</td>\n",
       "      <td>464.000000</td>\n",
       "      <td>1503.000000</td>\n",
       "      <td>15362.500000</td>\n",
       "      <td>10.000000</td>\n",
       "    </tr>\n",
       "    <tr>\n",
       "      <th>75%</th>\n",
       "      <td>18.250000</td>\n",
       "      <td>17010.000000</td>\n",
       "      <td>530.000000</td>\n",
       "      <td>1323.000000</td>\n",
       "      <td>1040.000000</td>\n",
       "      <td>1144.000000</td>\n",
       "      <td>6381.000000</td>\n",
       "      <td>1054.000000</td>\n",
       "      <td>95.000000</td>\n",
       "      <td>3408.000000</td>\n",
       "      <td>524.000000</td>\n",
       "      <td>1670.000000</td>\n",
       "      <td>17021.000000</td>\n",
       "      <td>80.000000</td>\n",
       "    </tr>\n",
       "    <tr>\n",
       "      <th>max</th>\n",
       "      <td>24.000000</td>\n",
       "      <td>23240.000000</td>\n",
       "      <td>728.000000</td>\n",
       "      <td>1645.000000</td>\n",
       "      <td>2177.000000</td>\n",
       "      <td>1726.000000</td>\n",
       "      <td>9649.000000</td>\n",
       "      <td>1936.000000</td>\n",
       "      <td>389.000000</td>\n",
       "      <td>7342.000000</td>\n",
       "      <td>847.000000</td>\n",
       "      <td>3042.000000</td>\n",
       "      <td>23374.000000</td>\n",
       "      <td>3701.000000</td>\n",
       "    </tr>\n",
       "  </tbody>\n",
       "</table>\n",
       "</div>"
      ],
      "text/plain": [
       "               Hour  Ontario Demand     Northwest     Northeast        Ottawa  \\\n",
       "count  26304.000000    26304.000000  26304.000000  26304.000000  26304.000000   \n",
       "mean      12.500000    15454.580482    477.612530   1211.153285    908.093028   \n",
       "std        6.922318     2319.745483     76.456378    152.535004    202.392173   \n",
       "min        1.000000    10167.000000      0.000000      0.000000      0.000000   \n",
       "25%        6.750000    13746.750000    424.000000   1100.000000    766.000000   \n",
       "50%       12.500000    15341.000000    471.000000   1203.000000    899.000000   \n",
       "75%       18.250000    17010.000000    530.000000   1323.000000   1040.000000   \n",
       "max       24.000000    23240.000000    728.000000   1645.000000   2177.000000   \n",
       "\n",
       "               East       Toronto          Essa         Bruce     Southwest  \\\n",
       "count  26304.000000  26304.000000  26304.000000  26304.000000  26304.000000   \n",
       "mean     996.087477   5751.034101    921.040640     79.491560   3107.029615   \n",
       "std      220.258410   1037.120920    232.066966     34.828776    488.723766   \n",
       "min        0.000000      0.000000      0.000000    -61.000000      0.000000   \n",
       "25%      855.000000   4963.000000    750.000000     57.000000   2756.000000   \n",
       "50%      992.000000   5781.000000    893.000000     74.000000   3094.000000   \n",
       "75%     1144.000000   6381.000000   1054.000000     95.000000   3408.000000   \n",
       "max     1726.000000   9649.000000   1936.000000    389.000000   7342.000000   \n",
       "\n",
       "            Niagara          West    Zone Total          Diff  \n",
       "count  26304.000000  26304.000000  26304.000000  26304.000000  \n",
       "mean     472.461755   1531.588314  15455.589606      1.008440  \n",
       "std       98.349500    255.804443   2382.884298    582.621517  \n",
       "min    -4255.000000      0.000000      0.000000 -18416.000000  \n",
       "25%      409.000000   1357.000000  13762.000000    -44.000000  \n",
       "50%      464.000000   1503.000000  15362.500000     10.000000  \n",
       "75%      524.000000   1670.000000  17021.000000     80.000000  \n",
       "max      847.000000   3042.000000  23374.000000   3701.000000  "
      ]
     },
     "execution_count": 6,
     "metadata": {},
     "output_type": "execute_result"
    }
   ],
   "source": [
    "# Compute summary statistics\n",
    "df.describe()"
   ]
  },
  {
   "cell_type": "code",
   "execution_count": 11,
   "metadata": {},
   "outputs": [
    {
     "data": {
      "text/plain": [
       "Text(0.5,0,'Hour')"
      ]
     },
     "execution_count": 11,
     "metadata": {},
     "output_type": "execute_result"
    },
    {
     "data": {
      "image/png": "[encoded data removed]",
      "text/plain": [
       "<Figure size 432x288 with 1 Axes>"
      ]
     },
     "metadata": {
      "needs_background": "light"
     },
     "output_type": "display_data"
    }
   ],
   "source": [
    "df1 = df[[\"Date\", \"Toronto\"]]\n",
    "df1.head()\n",
    "df1[\"Toronto\"].plot()\n",
    "plt.title(\"Toronto Demand\")\n",
    "plt.ylabel(\"Toronto\")\n",
    "plt.xlabel(\"Hour\")"
   ]
  },
  {
   "cell_type": "code",
   "execution_count": 10,
   "metadata": {},
   "outputs": [
    {
     "data": {
      "text/plain": [
       "Text(0.5,0,'Hour')"
      ]
     },
     "execution_count": 10,
     "metadata": {},
     "output_type": "execute_result"
    },
    {
     "data": {
      "image/png": "[encoded data removed]",
      "text/plain": [
       "<Figure size 432x288 with 1 Axes>"
      ]
     },
     "metadata": {
      "needs_background": "light"
     },
     "output_type": "display_data"
    }
   ],
   "source": [
    "pd.Series.rolling(df1[\"Toronto\"], window=25).mean().plot(style=\"-g\")\n",
    "plt.title(\"Toronto Rolling Mean\")\n",
    "plt.ylabel(\"Toronto\")\n",
    "plt.xlabel(\"Hour\")"
   ]
  },
  {
   "cell_type": "code",
   "execution_count": 61,
   "metadata": {},
   "outputs": [
    {
     "data": {
      "text/plain": [
       "Text(0.5,0,'Power Demand')"
      ]
     },
     "execution_count": 61,
     "metadata": {},
     "output_type": "execute_result"
    },
    {
     "data": {
      "image/png": "[encoded data removed]",
      "text/plain": [
       "<Figure size 432x288 with 1 Axes>"
      ]
     },
     "metadata": {},
     "output_type": "display_data"
    }
   ],
   "source": [
    "plt.figure()\n",
    "\n",
    "\n",
    "df1[\"Toronto\"].plot(kind=\"hist\", stacked=True, bins=50)\n",
    "\n",
    "plt.title(\"Toronto Power Demand histogram\")\n",
    "plt.xlabel(\"Power Demand\")"
   ]
  }
 ],
 "metadata": {
  "colab": {
   "include_colab_link": true,
   "name": "Untitled0.ipynb",
   "provenance": [],
   "version": "0.3.2"
  },
  "kernelspec": {
   "display_name": "Python 3",
   "language": "python",
   "name": "python3"
  },
  "language_info": {
   "codemirror_mode": {
    "name": "ipython",
    "version": 3
   },
   "file_extension": ".py",
   "mimetype": "text/x-python",
   "name": "python",
   "nbconvert_exporter": "python",
   "pygments_lexer": "ipython3",
   "version": "3.7.1"
  }
 },
 "nbformat": 4,
 "nbformat_minor": 2
}
